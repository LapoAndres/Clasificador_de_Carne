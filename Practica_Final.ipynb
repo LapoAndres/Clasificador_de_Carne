{
 "cells": [
  {
   "cell_type": "markdown",
   "id": "eae0a5a5",
   "metadata": {},
   "source": [
    "IMPORTACION DE LIBRERIAS"
   ]
  },
  {
   "cell_type": "code",
   "execution_count": null,
   "id": "13b60b9c",
   "metadata": {},
   "outputs": [],
   "source": [
    "from keras.applications.mobilenet_v2 import MobileNetV2\n",
    "from keras.layers import GlobalAveragePooling2D, Dense\n",
    "from keras.optimizers import Adam\n",
    "from keras.callbacks import TensorBoard, ModelCheckpoint\n",
    "from keras.preprocessing import image\n",
    "from keras.applications.imagenet_utils import preprocess_input, decode_predictions\n",
    "from sklearn.utils import shuffle\n",
    "from sklearn.model_selection import train_test_split\n",
    "from tensorflow.keras.models import Model\n",
    "import cv2\n",
    "import matplotlib.pyplot as plt\n",
    "import numpy as np\n",
    "from sklearn.metrics import confusion_matrix\n",
    "import seaborn as sns\n",
    "import os\n",
    "%matplotlib inline"
   ]
  },
  {
   "cell_type": "markdown",
   "id": "96025502",
   "metadata": {},
   "source": [
    "RUTA DE LAS CARPETAS"
   ]
  },
  {
   "cell_type": "code",
   "execution_count": null,
   "id": "d36ecbfc",
   "metadata": {},
   "outputs": [],
   "source": [
    "train_data_dir = 'dataset/train'\n",
    "test_data_dir = 'dataset/test'"
   ]
  },
  {
   "cell_type": "markdown",
   "id": "b74e3101",
   "metadata": {},
   "source": [
    "TAMAÑO DE LAS IMAGENES DE ENTRADA Y NUMERO DE CLASES"
   ]
  },
  {
   "cell_type": "code",
   "execution_count": null,
   "id": "a9190003",
   "metadata": {},
   "outputs": [],
   "source": [
    "input_shape = (224, 224, 3)\n",
    "num_classes = 8"
   ]
  },
  {
   "cell_type": "markdown",
   "id": "a4705336",
   "metadata": {},
   "source": [
    "CONFIGURACIÓN DEL GENERADOR DE IMAGENES"
   ]
  },
  {
   "cell_type": "code",
   "execution_count": null,
   "id": "bf1bd71f",
   "metadata": {},
   "outputs": [],
   "source": [
    "train_datagen = image.ImageDataGenerator(\n",
    "    preprocessing_function=preprocess_input\n",
    ")"
   ]
  },
  {
   "cell_type": "markdown",
   "id": "1a94e957",
   "metadata": {},
   "source": [
    "GENERAR LOS DATOS DE ENTRENAMIENTO"
   ]
  },
  {
   "cell_type": "code",
   "execution_count": null,
   "id": "4cc81908",
   "metadata": {},
   "outputs": [],
   "source": [
    "train_generator = train_datagen.flow_from_directory(\n",
    "    train_data_dir,\n",
    "    target_size=input_shape[:2],\n",
    "    batch_size=32,\n",
    "    class_mode='categorical',\n",
    "    shuffle=True\n",
    ")"
   ]
  },
  {
   "cell_type": "markdown",
   "id": "147610ea",
   "metadata": {},
   "source": [
    "CREACION DEL MODELO BASE MOBILENETV2"
   ]
  },
  {
   "cell_type": "code",
   "execution_count": null,
   "id": "1b5087bd",
   "metadata": {},
   "outputs": [],
   "source": [
    "base_model = MobileNetV2(weights='imagenet', include_top=False, input_shape=input_shape)"
   ]
  },
  {
   "cell_type": "markdown",
   "id": "867d163a",
   "metadata": {},
   "source": [
    "ADICION DE CAPAS PERSONALIZADAS"
   ]
  },
  {
   "cell_type": "code",
   "execution_count": null,
   "id": "4d4160bc",
   "metadata": {},
   "outputs": [],
   "source": [
    "x = base_model.output\n",
    "x = GlobalAveragePooling2D()(x)\n",
    "x = Dense(256, activation='relu')(x)\n",
    "predictions = Dense(num_classes, activation='softmax')(x)"
   ]
  },
  {
   "cell_type": "markdown",
   "id": "816df821",
   "metadata": {},
   "source": [
    "COMBINACION DEL MODELO CON LAS NUEVAS CAPAS"
   ]
  },
  {
   "cell_type": "code",
   "execution_count": null,
   "id": "e38152c7",
   "metadata": {},
   "outputs": [],
   "source": [
    "model = Model(inputs=base_model.input, outputs=predictions)"
   ]
  },
  {
   "cell_type": "markdown",
   "id": "a9fc6a28",
   "metadata": {},
   "source": [
    "CONGELADO DE LAS CAPAS DEL MODELO BASE"
   ]
  },
  {
   "cell_type": "code",
   "execution_count": null,
   "id": "ec8ae5f9",
   "metadata": {},
   "outputs": [],
   "source": [
    "for layer in base_model.layers:\n",
    "    layer.trainable = False"
   ]
  },
  {
   "cell_type": "markdown",
   "id": "7825274a",
   "metadata": {},
   "source": [
    "COMPILACION DEL MODELO"
   ]
  },
  {
   "cell_type": "code",
   "execution_count": null,
   "id": "41b45863",
   "metadata": {},
   "outputs": [],
   "source": [
    "model.compile(optimizer=Adam(), loss='categorical_crossentropy', metrics=['accuracy'])"
   ]
  },
  {
   "cell_type": "markdown",
   "id": "03a14072",
   "metadata": {},
   "source": [
    "CONFIGURACION DEL ENTRENAMIENTO"
   ]
  },
  {
   "cell_type": "code",
   "execution_count": null,
   "id": "a4e69099",
   "metadata": {},
   "outputs": [],
   "source": [
    "batch_size = 32\n",
    "epochs = 50"
   ]
  },
  {
   "cell_type": "markdown",
   "id": "78bfe0fa",
   "metadata": {},
   "source": [
    "ENTRENAMIENTO"
   ]
  },
  {
   "cell_type": "code",
   "execution_count": null,
   "id": "057e9bdb",
   "metadata": {},
   "outputs": [],
   "source": [
    "history = model.fit(\n",
    "    train_generator,\n",
    "    steps_per_epoch=train_generator.samples // batch_size,\n",
    "    epochs=epochs\n",
    ")"
   ]
  },
  {
   "cell_type": "markdown",
   "id": "4506310c",
   "metadata": {},
   "source": [
    "EVALUACION DEL MODELO CON EL CONJUNTO DE PRUEBA"
   ]
  },
  {
   "cell_type": "code",
   "execution_count": null,
   "id": "058dd0be",
   "metadata": {},
   "outputs": [],
   "source": [
    "test_datagen = image.ImageDataGenerator(preprocessing_function=preprocess_input)\n",
    "\n",
    "test_generator = test_datagen.flow_from_directory(\n",
    "    test_data_dir,\n",
    "    target_size=input_shape[:2],\n",
    "    batch_size=32,\n",
    "    class_mode='categorical',\n",
    "    shuffle=False\n",
    ")\n",
    "\n",
    "test_loss, test_accuracy = model.evaluate(test_generator)\n",
    "\n",
    "print('Test loss:', test_loss)\n",
    "print('Test accuracy:', test_accuracy)"
   ]
  },
  {
   "cell_type": "markdown",
   "id": "7c87b7c3",
   "metadata": {},
   "source": [
    "PREDICCION DEL CONJUNTO DE PRUEBAS"
   ]
  },
  {
   "cell_type": "code",
   "execution_count": null,
   "id": "3458733a",
   "metadata": {},
   "outputs": [],
   "source": [
    "y_pred = model.predict(test_generator)\n",
    "y_pred_classes = np.argmax(y_pred, axis=1)"
   ]
  },
  {
   "cell_type": "markdown",
   "id": "f94585db",
   "metadata": {},
   "source": [
    "OBTENCION DE LAS ETIQUETAS DE LAS CLASES"
   ]
  },
  {
   "cell_type": "code",
   "execution_count": null,
   "id": "06ef500d",
   "metadata": {},
   "outputs": [],
   "source": [
    "class_labels = list(test_generator.class_indices.keys())"
   ]
  },
  {
   "cell_type": "markdown",
   "id": "444c7944",
   "metadata": {},
   "source": [
    "IMPRIMIR LA IMAGEN Y LA CLASE PREDICHA"
   ]
  },
  {
   "cell_type": "code",
   "execution_count": null,
   "id": "7762b8a8",
   "metadata": {},
   "outputs": [],
   "source": [
    "for i in range(len(test_generator.filenames)):\n",
    "    for i in range(len(test_generator.filenames)):\n",
    "    filename = test_generator.filenames[i]\n",
    "    true_label = filename.split('/')[0]  # Extraer la etiqueta verdadera de la ruta de la imagen\n",
    "    predicted_label = class_labels[y_pred_classes[i]]\n",
    "\n",
    "    # Cargar y mostrar la imagen\n",
    "    img = cv2.imread(os.path.join(test_data_dir, filename))\n",
    "    img = cv2.cvtColor(img, cv2.COLOR_BGR2RGB)\n",
    "    plt.imshow(img)\n",
    "    plt.axis('off')\n",
    "    plt.show()\n",
    "\n",
    "    print(\"Imagen:\", filename)\n",
    "    print(\"Etiqueta verdadera:\", true_label)\n",
    "    print(\"Clase predicha:\", predicted_label)\n",
    "    print(\"---------------------\")"
   ]
  },
  {
   "cell_type": "markdown",
   "id": "182633e9",
   "metadata": {},
   "source": [
    "MATRIZ DE CONFUSION"
   ]
  },
  {
   "cell_type": "code",
   "execution_count": null,
   "id": "d6a47f52",
   "metadata": {},
   "outputs": [],
   "source": [
    "cm = confusion_matrix(test_generator.classes, y_pred_classes)"
   ]
  },
  {
   "cell_type": "code",
   "execution_count": null,
   "id": "6f4f98d3",
   "metadata": {},
   "outputs": [],
   "source": [
    "fig, ax = plt.subplots()"
   ]
  },
  {
   "cell_type": "code",
   "execution_count": null,
   "id": "e126bdca",
   "metadata": {},
   "outputs": [],
   "source": [
    "sns.heatmap(cm, annot=True, fmt='d', cmap='Blues', ax=ax)"
   ]
  },
  {
   "cell_type": "code",
   "execution_count": null,
   "id": "9939d9e9",
   "metadata": {},
   "outputs": [],
   "source": [
    "ax.set_xlabel('Predicción')\n",
    "ax.set_ylabel('Etiqueta verdadera')\n",
    "ax.set_xticklabels(class_labels, rotation=45)\n",
    "ax.set_yticklabels(class_labels, rotation=0)"
   ]
  },
  {
   "cell_type": "markdown",
   "id": "b1ceb6db",
   "metadata": {},
   "source": [
    "VISUALIZACION DE LA MATRIZ"
   ]
  },
  {
   "cell_type": "code",
   "execution_count": null,
   "id": "8ec7bb14",
   "metadata": {},
   "outputs": [],
   "source": [
    "plt.title('Matriz de Confusión')"
   ]
  },
  {
   "cell_type": "code",
   "execution_count": null,
   "id": "d2a4387e",
   "metadata": {},
   "outputs": [],
   "source": [
    "plt.show()"
   ]
  },
  {
   "cell_type": "raw",
   "id": "e10de30e",
   "metadata": {},
   "source": [
    "GUARDADO DE LA RED YA ENTRENADA"
   ]
  },
  {
   "cell_type": "code",
   "execution_count": null,
   "id": "34d88b3e",
   "metadata": {},
   "outputs": [],
   "source": [
    "model.save('models/modelo.h5')"
   ]
  }
 ],
 "metadata": {
  "kernelspec": {
   "display_name": "Python 3 (ipykernel)",
   "language": "python",
   "name": "python3"
  },
  "language_info": {
   "codemirror_mode": {
    "name": "ipython",
    "version": 3
   },
   "file_extension": ".py",
   "mimetype": "text/x-python",
   "name": "python",
   "nbconvert_exporter": "python",
   "pygments_lexer": "ipython3",
   "version": "3.11.3"
  }
 },
 "nbformat": 4,
 "nbformat_minor": 5
}
